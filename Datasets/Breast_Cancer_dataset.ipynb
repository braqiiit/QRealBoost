{
  "cells": [
    {
      "cell_type": "markdown",
      "source": [
        "### The Breast Cancer Wisconsin dataset provided by Scikit-learn has been used for the experiments.\n",
        "\n",
        "For more details about the dataset visit - https://archive.ics.uci.edu/ml/datasets/breast+cancer+wisconsin+(diagnostic)"
      ],
      "metadata": {
        "id": "o6NZ1BcP-pt_"
      },
      "id": "o6NZ1BcP-pt_"
    },
    {
      "cell_type": "code",
      "execution_count": null,
      "id": "da31ad75",
      "metadata": {
        "id": "da31ad75"
      },
      "outputs": [],
      "source": [
        "from sklearn import datasets\n",
        "from sklearn import metrics\n",
        "from sklearn.model_selection import train_test_split\n",
        "from sklearn.cluster import KMeans\n",
        "import numpy as np\n"
      ]
    },
    {
      "cell_type": "code",
      "execution_count": null,
      "id": "7a1ba3c3",
      "metadata": {
        "id": "7a1ba3c3"
      },
      "outputs": [],
      "source": [
        "from sklearn.decomposition import PCA\n",
        "from sklearn.preprocessing import StandardScaler, MinMaxScaler"
      ]
    },
    {
      "cell_type": "code",
      "execution_count": null,
      "id": "c5b3ca76",
      "metadata": {
        "id": "c5b3ca76"
      },
      "outputs": [],
      "source": [
        "cancer = datasets.load_breast_cancer()"
      ]
    },
    {
      "cell_type": "markdown",
      "id": "c2e4ee61",
      "metadata": {
        "id": "c2e4ee61"
      },
      "source": [
        "# M = 8"
      ]
    },
    {
      "cell_type": "code",
      "execution_count": null,
      "id": "cf6f63e5",
      "metadata": {
        "id": "cf6f63e5"
      },
      "outputs": [],
      "source": [
        "import random\n",
        "\n",
        "pairs = list(zip(cancer.data, cancer.target))  # make pairs out of the two lists\n",
        "pairs = random.sample(pairs, 16)  # pick 16 random pairs\n",
        "data, target = zip(*pairs)  # separate the pairs"
      ]
    },
    {
      "cell_type": "code",
      "execution_count": null,
      "id": "6cb74b07",
      "metadata": {
        "id": "6cb74b07"
      },
      "outputs": [],
      "source": [
        "sample_train, sample_test, label_train, label_test = train_test_split(\n",
        "     data, target, test_size=0.5, random_state=22)"
      ]
    },
    {
      "cell_type": "markdown",
      "source": [
        "### We perform dimensionality reduction using PCA for reducing number of features in our samples in order to reduce some computation time."
      ],
      "metadata": {
        "id": "89-ffUzxDPqX"
      },
      "id": "89-ffUzxDPqX"
    },
    {
      "cell_type": "code",
      "execution_count": null,
      "id": "fc9fac02",
      "metadata": {
        "id": "fc9fac02"
      },
      "outputs": [],
      "source": [
        "n_dim = 1\n",
        "pca = PCA(n_components=n_dim).fit(sample_train)\n",
        "sample_train = pca.transform(sample_train)\n",
        "sample_test = pca.transform(sample_test)\n",
        "\n",
        "# Normalise\n",
        "std_scale = StandardScaler().fit(sample_train)\n",
        "sample_train = std_scale.transform(sample_train)\n",
        "sample_test = std_scale.transform(sample_test)\n",
        "\n",
        "# Scale\n",
        "samples = np.append(sample_train, sample_test, axis=0)\n",
        "minmax_scale = MinMaxScaler((-1, 1)).fit(samples)\n",
        "sample_train = minmax_scale.transform(sample_train)\n",
        "sample_test = minmax_scale.transform(sample_test)"
      ]
    },
    {
      "cell_type": "code",
      "execution_count": null,
      "id": "ba10ed73",
      "metadata": {
        "id": "ba10ed73"
      },
      "outputs": [],
      "source": [
        "X = sample_train\n",
        "y = label_train"
      ]
    },
    {
      "cell_type": "markdown",
      "source": [
        "### **In order to maintain consistency across all experiments, the same data samples printed below have been copied and used as inputs in all our experiments**"
      ],
      "metadata": {
        "id": "IAlC8X1wDWbv"
      },
      "id": "IAlC8X1wDWbv"
    },
    {
      "cell_type": "code",
      "execution_count": null,
      "id": "bb720997",
      "metadata": {
        "id": "bb720997",
        "outputId": "be8ea7f8-acf6-4bea-fcd6-73e9e43e85c3"
      },
      "outputs": [
        {
          "data": {
            "text/plain": [
              "array([[-0.36998041],\n",
              "       [ 0.18273028],\n",
              "       [-0.83346932],\n",
              "       [-0.4136746 ],\n",
              "       [ 0.12647021],\n",
              "       [-0.74441099],\n",
              "       [ 0.90043098],\n",
              "       [-0.52703073]])"
            ]
          },
          "execution_count": 141,
          "metadata": {},
          "output_type": "execute_result"
        }
      ],
      "source": [
        "X"
      ]
    },
    {
      "cell_type": "code",
      "execution_count": null,
      "id": "b52d8467",
      "metadata": {
        "scrolled": true,
        "id": "b52d8467",
        "outputId": "449a4639-4bbe-4668-f1df-b9d2b06afa6e"
      },
      "outputs": [
        {
          "data": {
            "text/plain": [
              "[0, 0, 1, 1, 1, 1, 0, 1]"
            ]
          },
          "execution_count": 142,
          "metadata": {},
          "output_type": "execute_result"
        }
      ],
      "source": [
        "y"
      ]
    },
    {
      "cell_type": "code",
      "execution_count": null,
      "id": "d9aff63a",
      "metadata": {
        "scrolled": false,
        "id": "d9aff63a",
        "outputId": "0f83f029-b975-4834-a810-8b82936ce713"
      },
      "outputs": [
        {
          "data": {
            "text/plain": [
              "array([[-0.61831361],\n",
              "       [ 1.        ],\n",
              "       [ 0.46821185],\n",
              "       [-0.85423059],\n",
              "       [-0.95132588],\n",
              "       [-0.75467596],\n",
              "       [-1.        ],\n",
              "       [-0.91779177]])"
            ]
          },
          "execution_count": 143,
          "metadata": {},
          "output_type": "execute_result"
        }
      ],
      "source": [
        "sample_test"
      ]
    },
    {
      "cell_type": "code",
      "execution_count": null,
      "id": "56b9f453",
      "metadata": {
        "id": "56b9f453",
        "outputId": "ac06db95-422b-4310-f076-a071525be186"
      },
      "outputs": [
        {
          "data": {
            "text/plain": [
              "[0, 0, 0, 1, 1, 0, 1, 1]"
            ]
          },
          "execution_count": 144,
          "metadata": {},
          "output_type": "execute_result"
        }
      ],
      "source": [
        "label_test"
      ]
    },
    {
      "cell_type": "markdown",
      "id": "ff8d5c1a",
      "metadata": {
        "id": "ff8d5c1a"
      },
      "source": [
        "# M = 16\n"
      ]
    },
    {
      "cell_type": "code",
      "execution_count": null,
      "id": "4284cae9",
      "metadata": {
        "id": "4284cae9"
      },
      "outputs": [],
      "source": [
        "import random\n",
        "\n",
        "pairs = list(zip(cancer.data, cancer.target))  # make pairs out of the two lists\n",
        "pairs = random.sample(pairs, 32)  # pick 128 random pairs\n",
        "data, target = zip(*pairs)  # separate the pairs"
      ]
    },
    {
      "cell_type": "code",
      "execution_count": null,
      "id": "8014c5e5",
      "metadata": {
        "id": "8014c5e5"
      },
      "outputs": [],
      "source": [
        "sample_train, sample_test, label_train, label_test = train_test_split(\n",
        "     data, target, test_size=0.5, random_state=22)"
      ]
    },
    {
      "cell_type": "code",
      "execution_count": null,
      "id": "30867b46",
      "metadata": {
        "id": "30867b46"
      },
      "outputs": [],
      "source": [
        "n_dim = 1\n",
        "pca = PCA(n_components=n_dim).fit(sample_train)\n",
        "sample_train = pca.transform(sample_train)\n",
        "sample_test = pca.transform(sample_test)\n",
        "\n",
        "# Normalise\n",
        "std_scale = StandardScaler().fit(sample_train)\n",
        "sample_train = std_scale.transform(sample_train)\n",
        "sample_test = std_scale.transform(sample_test)\n",
        "\n",
        "# Scale\n",
        "samples = np.append(sample_train, sample_test, axis=0)\n",
        "minmax_scale = MinMaxScaler((-1, 1)).fit(samples)\n",
        "sample_train = minmax_scale.transform(sample_train)\n",
        "sample_test = minmax_scale.transform(sample_test)"
      ]
    },
    {
      "cell_type": "code",
      "execution_count": null,
      "id": "a6c4c7a9",
      "metadata": {
        "id": "a6c4c7a9"
      },
      "outputs": [],
      "source": [
        "no_of_Q = 4\n",
        "\n",
        "X = sample_train\n",
        "y = label_train"
      ]
    },
    {
      "cell_type": "code",
      "execution_count": null,
      "id": "7f8e0e2e",
      "metadata": {
        "id": "7f8e0e2e",
        "outputId": "6d34f84f-28a6-4f7c-c7b5-f7046485af49"
      },
      "outputs": [
        {
          "data": {
            "text/plain": [
              "array([[-0.76764442],\n",
              "       [-0.61776561],\n",
              "       [-0.76501246],\n",
              "       [ 0.13807384],\n",
              "       [-0.61909054],\n",
              "       [ 0.36288268],\n",
              "       [-1.        ],\n",
              "       [-0.61300765],\n",
              "       [-0.33114908],\n",
              "       [-0.65033625],\n",
              "       [-0.79890335],\n",
              "       [-0.56009028],\n",
              "       [ 0.10323057],\n",
              "       [-0.52076065],\n",
              "       [-0.89158817],\n",
              "       [-0.73638509]])"
            ]
          },
          "execution_count": 60,
          "metadata": {},
          "output_type": "execute_result"
        }
      ],
      "source": [
        "X"
      ]
    },
    {
      "cell_type": "code",
      "execution_count": null,
      "id": "75f173fe",
      "metadata": {
        "scrolled": true,
        "id": "75f173fe",
        "outputId": "a103d163-c6fb-4d27-efc1-8e2a70757bb3"
      },
      "outputs": [
        {
          "data": {
            "text/plain": [
              "[1, 0, 1, 0, 0, 0, 1, 0, 0, 1, 1, 1, 0, 0, 1, 1]"
            ]
          },
          "execution_count": 65,
          "metadata": {},
          "output_type": "execute_result"
        }
      ],
      "source": [
        "y "
      ]
    },
    {
      "cell_type": "code",
      "execution_count": null,
      "id": "e6db89b4",
      "metadata": {
        "id": "e6db89b4",
        "outputId": "690d5680-9dcb-4115-8d61-6f67cc79ac42"
      },
      "outputs": [
        {
          "data": {
            "text/plain": [
              "array([[-0.95872091],\n",
              "       [-0.92576013],\n",
              "       [-0.73496398],\n",
              "       [-0.79805629],\n",
              "       [-0.57538087],\n",
              "       [-0.49002715],\n",
              "       [ 0.72440735],\n",
              "       [ 1.        ],\n",
              "       [-0.56658794],\n",
              "       [-0.34205072],\n",
              "       [-0.83562247],\n",
              "       [-0.68286875],\n",
              "       [-0.74067301],\n",
              "       [-0.74345532],\n",
              "       [-0.9301953 ],\n",
              "       [-0.81564803]])"
            ]
          },
          "execution_count": 66,
          "metadata": {},
          "output_type": "execute_result"
        }
      ],
      "source": [
        "sample_test"
      ]
    },
    {
      "cell_type": "code",
      "execution_count": null,
      "id": "3ffeb173",
      "metadata": {
        "id": "3ffeb173",
        "outputId": "1876494e-b9ec-42d9-dbaf-7b4389876f40"
      },
      "outputs": [
        {
          "data": {
            "text/plain": [
              "[1, 1, 1, 1, 1, 0, 0, 0, 1, 0, 1, 1, 1, 1, 1, 1]"
            ]
          },
          "execution_count": 67,
          "metadata": {},
          "output_type": "execute_result"
        }
      ],
      "source": [
        "label_test"
      ]
    },
    {
      "cell_type": "markdown",
      "id": "9f6107c1",
      "metadata": {
        "id": "9f6107c1"
      },
      "source": [
        "# M = 32 "
      ]
    },
    {
      "cell_type": "code",
      "execution_count": null,
      "id": "8021af7f",
      "metadata": {
        "id": "8021af7f"
      },
      "outputs": [],
      "source": [
        "import random\n",
        "\n",
        "pairs = list(zip(cancer.data, cancer.target))  # make pairs out of the two lists\n",
        "pairs = random.sample(pairs, 64)  # pick 64 random pairs\n",
        "data, target = zip(*pairs)  # separate the pairs"
      ]
    },
    {
      "cell_type": "code",
      "execution_count": null,
      "id": "993104b5",
      "metadata": {
        "id": "993104b5"
      },
      "outputs": [],
      "source": [
        "sample_train, sample_test, label_train, label_test = train_test_split(\n",
        "     data, target, test_size=0.5, random_state=22)"
      ]
    },
    {
      "cell_type": "code",
      "execution_count": null,
      "id": "8d861990",
      "metadata": {
        "id": "8d861990"
      },
      "outputs": [],
      "source": [
        "n_dim = 1\n",
        "pca = PCA(n_components=n_dim).fit(sample_train)\n",
        "sample_train = pca.transform(sample_train)\n",
        "sample_test = pca.transform(sample_test)\n",
        "\n",
        "# Normalise\n",
        "std_scale = StandardScaler().fit(sample_train)\n",
        "sample_train = std_scale.transform(sample_train)\n",
        "sample_test = std_scale.transform(sample_test)\n",
        "\n",
        "# Scale\n",
        "samples = np.append(sample_train, sample_test, axis=0)\n",
        "minmax_scale = MinMaxScaler((-1, 1)).fit(samples)\n",
        "sample_train = minmax_scale.transform(sample_train)\n",
        "sample_test = minmax_scale.transform(sample_test)"
      ]
    },
    {
      "cell_type": "code",
      "execution_count": null,
      "id": "a2b6cf02",
      "metadata": {
        "id": "a2b6cf02"
      },
      "outputs": [],
      "source": [
        "X = sample_train\n",
        "y = label_train"
      ]
    },
    {
      "cell_type": "code",
      "execution_count": null,
      "id": "6752910f",
      "metadata": {
        "id": "6752910f",
        "outputId": "fc38ee8e-1787-473a-c670-1eb487619fa2"
      },
      "outputs": [
        {
          "data": {
            "text/plain": [
              "array([[-0.52961818],\n",
              "       [-0.73694129],\n",
              "       [-0.98076452],\n",
              "       [ 0.30469623],\n",
              "       [-0.78349866],\n",
              "       [-0.48788974],\n",
              "       [-0.79870995],\n",
              "       [ 0.25658932],\n",
              "       [-0.70611322],\n",
              "       [-0.74200188],\n",
              "       [-0.7363877 ],\n",
              "       [ 0.31199637],\n",
              "       [-0.97364873],\n",
              "       [ 0.71250752],\n",
              "       [-0.55861402],\n",
              "       [-0.63612516],\n",
              "       [-0.90847131],\n",
              "       [-0.54241534],\n",
              "       [-0.21227206],\n",
              "       [-0.49821623],\n",
              "       [-0.7787262 ],\n",
              "       [-0.69581626],\n",
              "       [-0.77763277],\n",
              "       [ 0.38337651],\n",
              "       [-0.02174895],\n",
              "       [-1.        ],\n",
              "       [-0.63179088],\n",
              "       [-0.9240283 ],\n",
              "       [-0.83105823],\n",
              "       [-0.61640269],\n",
              "       [-0.95954346],\n",
              "       [-0.81083621]])"
            ]
          },
          "execution_count": 60,
          "metadata": {},
          "output_type": "execute_result"
        }
      ],
      "source": [
        "X"
      ]
    },
    {
      "cell_type": "code",
      "execution_count": null,
      "id": "0d3bc62c",
      "metadata": {
        "scrolled": true,
        "id": "0d3bc62c",
        "outputId": "ce89d216-c78f-4cba-f909-620bf05f8ceb"
      },
      "outputs": [
        {
          "data": {
            "text/plain": [
              "[1,\n",
              " 1,\n",
              " 1,\n",
              " 0,\n",
              " 1,\n",
              " 1,\n",
              " 0,\n",
              " 0,\n",
              " 1,\n",
              " 1,\n",
              " 1,\n",
              " 0,\n",
              " 1,\n",
              " 0,\n",
              " 0,\n",
              " 1,\n",
              " 1,\n",
              " 1,\n",
              " 0,\n",
              " 0,\n",
              " 1,\n",
              " 1,\n",
              " 1,\n",
              " 0,\n",
              " 0,\n",
              " 1,\n",
              " 1,\n",
              " 1,\n",
              " 1,\n",
              " 1,\n",
              " 1,\n",
              " 1]"
            ]
          },
          "execution_count": 61,
          "metadata": {},
          "output_type": "execute_result"
        }
      ],
      "source": [
        "y"
      ]
    },
    {
      "cell_type": "code",
      "execution_count": null,
      "id": "14c93cda",
      "metadata": {
        "id": "14c93cda",
        "outputId": "86379dc3-c3f1-4839-e19f-5ed1eee314df"
      },
      "outputs": [
        {
          "data": {
            "text/plain": [
              "array([[-0.40839483],\n",
              "       [-0.3025159 ],\n",
              "       [-0.56281703],\n",
              "       [ 1.        ],\n",
              "       [-0.51608625],\n",
              "       [-0.30182866],\n",
              "       [-0.89821949],\n",
              "       [-0.3258409 ],\n",
              "       [ 0.24403701],\n",
              "       [-0.08547389],\n",
              "       [-0.81397378],\n",
              "       [-0.52275241],\n",
              "       [-0.84506346],\n",
              "       [ 0.06944435],\n",
              "       [ 0.12100471],\n",
              "       [-0.82295834],\n",
              "       [-0.56187142],\n",
              "       [-0.47338434],\n",
              "       [ 0.27271194],\n",
              "       [-0.40050862],\n",
              "       [-0.44610167],\n",
              "       [-0.69609962],\n",
              "       [-0.82142116],\n",
              "       [-0.79394096],\n",
              "       [-0.73949103],\n",
              "       [-0.27940424],\n",
              "       [ 0.80421303],\n",
              "       [-0.32988797],\n",
              "       [-0.78661245],\n",
              "       [-0.75657348],\n",
              "       [-0.77425805],\n",
              "       [-0.89459281]])"
            ]
          },
          "execution_count": 62,
          "metadata": {},
          "output_type": "execute_result"
        }
      ],
      "source": [
        "sample_test"
      ]
    },
    {
      "cell_type": "code",
      "execution_count": null,
      "id": "798384ed",
      "metadata": {
        "id": "798384ed",
        "outputId": "81e84e6c-75ae-4a2a-94e0-804a26b989b1"
      },
      "outputs": [
        {
          "data": {
            "text/plain": [
              "[1,\n",
              " 0,\n",
              " 0,\n",
              " 0,\n",
              " 0,\n",
              " 0,\n",
              " 1,\n",
              " 0,\n",
              " 0,\n",
              " 0,\n",
              " 1,\n",
              " 0,\n",
              " 0,\n",
              " 0,\n",
              " 0,\n",
              " 1,\n",
              " 0,\n",
              " 1,\n",
              " 0,\n",
              " 0,\n",
              " 1,\n",
              " 1,\n",
              " 1,\n",
              " 1,\n",
              " 1,\n",
              " 1,\n",
              " 0,\n",
              " 0,\n",
              " 1,\n",
              " 1,\n",
              " 1,\n",
              " 1]"
            ]
          },
          "execution_count": 63,
          "metadata": {},
          "output_type": "execute_result"
        }
      ],
      "source": [
        "label_test"
      ]
    },
    {
      "cell_type": "markdown",
      "id": "b22edd03",
      "metadata": {
        "id": "b22edd03"
      },
      "source": [
        "# M = 64"
      ]
    },
    {
      "cell_type": "code",
      "execution_count": null,
      "id": "b3816f7e",
      "metadata": {
        "id": "b3816f7e"
      },
      "outputs": [],
      "source": [
        "import random\n",
        "\n",
        "pairs = list(zip(cancer.data, cancer.target))  # make pairs out of the two lists\n",
        "pairs = random.sample(pairs, 128)  # pick 128 random pairs\n",
        "data, target = zip(*pairs)  # separate the pairs"
      ]
    },
    {
      "cell_type": "code",
      "execution_count": null,
      "id": "d9727238",
      "metadata": {
        "id": "d9727238"
      },
      "outputs": [],
      "source": [
        "sample_train, sample_test, label_train, label_test = train_test_split(\n",
        "     data, target, test_size=0.5, random_state=22)"
      ]
    },
    {
      "cell_type": "code",
      "execution_count": null,
      "id": "0170aede",
      "metadata": {
        "id": "0170aede"
      },
      "outputs": [],
      "source": [
        "n_dim = 1\n",
        "pca = PCA(n_components=n_dim).fit(sample_train)\n",
        "sample_train = pca.transform(sample_train)\n",
        "sample_test = pca.transform(sample_test)\n",
        "\n",
        "# Normalise\n",
        "std_scale = StandardScaler().fit(sample_train)\n",
        "sample_train = std_scale.transform(sample_train)\n",
        "sample_test = std_scale.transform(sample_test)\n",
        "\n",
        "# Scale\n",
        "samples = np.append(sample_train, sample_test, axis=0)\n",
        "minmax_scale = MinMaxScaler((-1, 1)).fit(samples)\n",
        "sample_train = minmax_scale.transform(sample_train)\n",
        "sample_test = minmax_scale.transform(sample_test)"
      ]
    },
    {
      "cell_type": "code",
      "execution_count": null,
      "id": "6f5ee0f1",
      "metadata": {
        "id": "6f5ee0f1",
        "outputId": "3ead7020-da75-42af-c57a-0b187c0185cc"
      },
      "outputs": [
        {
          "name": "stdout",
          "output_type": "stream",
          "text": [
            "###### the old predictions [1 1 0 0 0 0 0 1 1 1 0 1 1 1 0 0 1 1 1 1 0 1 1 1 1 1 1 1 0 1 0 1 0 1 1 1 1\n",
            " 1 0 0 0 1 1 1 1 1 0 1 1 0 1 1 1 0 1 1 0 0 1 1 1 1 1 1]\n",
            "###### the new predictions [1 1 0 0 0 0 0 1 1 1 0 1 1 1 0 0 1 1 1 1 0 1 1 1 1 1 1 1 0 1 0 1 0 1 1 1 1\n",
            " 1 0 0 0 1 1 1 1 1 0 1 1 0 1 1 1 0 1 1 0 0 1 1 1 1 1 1]\n",
            "Accuracy 0.890625\n"
          ]
        }
      ],
      "source": [
        "no_of_Q = 4\n",
        "\n",
        "X = sample_train\n",
        "\n",
        "no_of_partitions = 2\n",
        "km = KMeans(n_clusters=no_of_partitions, init='random',\n",
        "        n_init=1, max_iter=30, tol=1e-04, random_state=0)\n",
        "fitted_km = km.fit(X[:no_of_Q])\n",
        "prediction = fitted_km.predict(X)\n",
        "\n",
        "fitted_km.labels_\n",
        "\n",
        "prediction\n",
        "\n",
        "d = prediction\n",
        "y = label_train\n",
        "print('###### the old predictions', d)\n",
        "\n",
        "from scipy.stats import mode \n",
        "from sklearn.metrics import confusion_matrix\n",
        "\n",
        "cm = confusion_matrix(y, d)\n",
        "cm_argmax = cm.argmax(axis=0)\n",
        "if (cm_argmax[0] == cm_argmax[1]):\n",
        "    correct_d = d\n",
        "else:\n",
        "    correct_d = np.array([cm_argmax[i] for i in d])\n",
        "\n",
        "print('###### the new predictions', correct_d)\n",
        "\n",
        "from sklearn.metrics import accuracy_score\n",
        "acc = metrics.accuracy_score(y,correct_d)\n",
        "print(\"Accuracy\",acc)\n",
        "\n"
      ]
    },
    {
      "cell_type": "code",
      "execution_count": null,
      "id": "c8bb0c2c",
      "metadata": {
        "id": "c8bb0c2c",
        "outputId": "da136d5e-5c87-4c23-8d78-31f1e1cad04b"
      },
      "outputs": [
        {
          "data": {
            "text/plain": [
              "array([[-0.92033957],\n",
              "       [-0.62676039],\n",
              "       [-0.28869688],\n",
              "       [-0.4545198 ],\n",
              "       [-0.5639226 ],\n",
              "       [-0.13063581],\n",
              "       [-0.12721978],\n",
              "       [-0.84393553],\n",
              "       [-0.8167348 ],\n",
              "       [-0.86877809],\n",
              "       [ 0.68405998],\n",
              "       [-0.77438584],\n",
              "       [-0.72603092],\n",
              "       [-0.97403678],\n",
              "       [ 0.82394382],\n",
              "       [ 0.04393449],\n",
              "       [-0.62029416],\n",
              "       [-0.7575307 ],\n",
              "       [-0.78364214],\n",
              "       [-0.69133675],\n",
              "       [ 0.4711372 ],\n",
              "       [-0.86332019],\n",
              "       [-0.7846598 ],\n",
              "       [-0.97647863],\n",
              "       [-0.91662612],\n",
              "       [-0.9170126 ],\n",
              "       [-0.79788711],\n",
              "       [-0.92582589],\n",
              "       [ 0.00207795],\n",
              "       [-0.94046638],\n",
              "       [ 0.28818783],\n",
              "       [-0.85261899],\n",
              "       [-0.26015489],\n",
              "       [-0.81450528],\n",
              "       [-0.66534136],\n",
              "       [-0.99248397],\n",
              "       [-0.71814302],\n",
              "       [-0.85732167],\n",
              "       [-0.40941704],\n",
              "       [-0.26379642],\n",
              "       [ 0.00921227],\n",
              "       [-0.8450853 ],\n",
              "       [-0.81489227],\n",
              "       [-0.59669884],\n",
              "       [-0.73294047],\n",
              "       [-0.88816995],\n",
              "       [ 0.09926307],\n",
              "       [-0.88024481],\n",
              "       [-0.71913121],\n",
              "       [ 0.16490514],\n",
              "       [-0.68072081],\n",
              "       [-0.83252443],\n",
              "       [-0.59845984],\n",
              "       [ 0.06816907],\n",
              "       [-0.75077876],\n",
              "       [-0.67732812],\n",
              "       [ 1.        ],\n",
              "       [-0.51626161],\n",
              "       [-0.65711506],\n",
              "       [-0.73442944],\n",
              "       [-0.86852521],\n",
              "       [-0.75947735],\n",
              "       [-0.63011559],\n",
              "       [-0.77908732]])"
            ]
          },
          "execution_count": 209,
          "metadata": {},
          "output_type": "execute_result"
        }
      ],
      "source": [
        "X"
      ]
    },
    {
      "cell_type": "code",
      "execution_count": null,
      "id": "74420656",
      "metadata": {
        "id": "74420656",
        "outputId": "736e0f31-2318-4ed2-e736-a07a2fa8c6cc"
      },
      "outputs": [
        {
          "data": {
            "text/plain": [
              "[1,\n",
              " 1,\n",
              " 0,\n",
              " 0,\n",
              " 1,\n",
              " 0,\n",
              " 0,\n",
              " 1,\n",
              " 1,\n",
              " 1,\n",
              " 0,\n",
              " 1,\n",
              " 1,\n",
              " 1,\n",
              " 0,\n",
              " 0,\n",
              " 0,\n",
              " 1,\n",
              " 1,\n",
              " 1,\n",
              " 0,\n",
              " 1,\n",
              " 1,\n",
              " 1,\n",
              " 1,\n",
              " 1,\n",
              " 0,\n",
              " 1,\n",
              " 0,\n",
              " 1,\n",
              " 0,\n",
              " 1,\n",
              " 0,\n",
              " 1,\n",
              " 1,\n",
              " 1,\n",
              " 0,\n",
              " 1,\n",
              " 1,\n",
              " 0,\n",
              " 0,\n",
              " 1,\n",
              " 1,\n",
              " 1,\n",
              " 1,\n",
              " 1,\n",
              " 0,\n",
              " 1,\n",
              " 1,\n",
              " 0,\n",
              " 0,\n",
              " 1,\n",
              " 1,\n",
              " 0,\n",
              " 1,\n",
              " 1,\n",
              " 0,\n",
              " 0,\n",
              " 1,\n",
              " 1,\n",
              " 1,\n",
              " 1,\n",
              " 0,\n",
              " 1]"
            ]
          },
          "execution_count": 214,
          "metadata": {},
          "output_type": "execute_result"
        }
      ],
      "source": [
        "y"
      ]
    },
    {
      "cell_type": "code",
      "execution_count": null,
      "id": "cd4429c9",
      "metadata": {
        "id": "cd4429c9",
        "outputId": "002821e7-27f0-4ac9-9db5-d2be4b71dea9"
      },
      "outputs": [
        {
          "data": {
            "text/plain": [
              "array([[-0.75423437],\n",
              "       [-0.65602419],\n",
              "       [ 0.21333776],\n",
              "       [-0.51939951],\n",
              "       [-0.81243976],\n",
              "       [-0.79156646],\n",
              "       [-0.80595879],\n",
              "       [-0.69137113],\n",
              "       [-0.79167719],\n",
              "       [-0.63640346],\n",
              "       [-0.65655968],\n",
              "       [-0.60008819],\n",
              "       [ 0.08046681],\n",
              "       [-0.66995772],\n",
              "       [-0.9143032 ],\n",
              "       [-0.7346537 ],\n",
              "       [-0.83086306],\n",
              "       [-0.69154759],\n",
              "       [-0.32046433],\n",
              "       [-0.61913998],\n",
              "       [-0.99949378],\n",
              "       [ 0.32645699],\n",
              "       [-0.9091592 ],\n",
              "       [-0.38972082],\n",
              "       [-0.836701  ],\n",
              "       [-0.23793032],\n",
              "       [-0.6540042 ],\n",
              "       [-0.86902482],\n",
              "       [-0.804716  ],\n",
              "       [ 0.1423963 ],\n",
              "       [-0.68438072],\n",
              "       [-0.90523266],\n",
              "       [-0.06363657],\n",
              "       [ 0.13351811],\n",
              "       [-0.8986342 ],\n",
              "       [-0.67632821],\n",
              "       [-0.83384046],\n",
              "       [-0.24302343],\n",
              "       [-0.11478386],\n",
              "       [-0.1748094 ],\n",
              "       [-0.59596087],\n",
              "       [-0.83984607],\n",
              "       [-0.57101925],\n",
              "       [-0.72698474],\n",
              "       [-0.67562877],\n",
              "       [-0.41587335],\n",
              "       [-1.        ],\n",
              "       [-0.75527322],\n",
              "       [-0.78762551],\n",
              "       [ 0.15402963],\n",
              "       [-0.24211366],\n",
              "       [-0.75569997],\n",
              "       [-0.63144063],\n",
              "       [-0.82345331],\n",
              "       [-0.81198364],\n",
              "       [-0.58035185],\n",
              "       [ 0.26857311],\n",
              "       [-0.74967687],\n",
              "       [ 0.39268594],\n",
              "       [-0.46482929],\n",
              "       [-0.80117135],\n",
              "       [-0.32990005],\n",
              "       [-0.97846964],\n",
              "       [-0.75533414]])"
            ]
          },
          "execution_count": 215,
          "metadata": {},
          "output_type": "execute_result"
        }
      ],
      "source": [
        "sample_test"
      ]
    },
    {
      "cell_type": "code",
      "execution_count": null,
      "id": "73467cd9",
      "metadata": {
        "id": "73467cd9",
        "outputId": "c9b46e07-24f8-4c26-d935-34385685f2f1"
      },
      "outputs": [
        {
          "data": {
            "text/plain": [
              "[1,\n",
              " 1,\n",
              " 0,\n",
              " 0,\n",
              " 1,\n",
              " 1,\n",
              " 1,\n",
              " 1,\n",
              " 0,\n",
              " 1,\n",
              " 1,\n",
              " 0,\n",
              " 0,\n",
              " 1,\n",
              " 1,\n",
              " 1,\n",
              " 0,\n",
              " 1,\n",
              " 0,\n",
              " 1,\n",
              " 1,\n",
              " 0,\n",
              " 1,\n",
              " 0,\n",
              " 1,\n",
              " 0,\n",
              " 1,\n",
              " 1,\n",
              " 1,\n",
              " 0,\n",
              " 1,\n",
              " 1,\n",
              " 0,\n",
              " 0,\n",
              " 1,\n",
              " 1,\n",
              " 1,\n",
              " 0,\n",
              " 0,\n",
              " 0,\n",
              " 1,\n",
              " 1,\n",
              " 0,\n",
              " 1,\n",
              " 1,\n",
              " 0,\n",
              " 1,\n",
              " 1,\n",
              " 1,\n",
              " 0,\n",
              " 0,\n",
              " 1,\n",
              " 1,\n",
              " 1,\n",
              " 1,\n",
              " 1,\n",
              " 0,\n",
              " 1,\n",
              " 0,\n",
              " 0,\n",
              " 1,\n",
              " 0,\n",
              " 1,\n",
              " 1]"
            ]
          },
          "execution_count": 216,
          "metadata": {},
          "output_type": "execute_result"
        }
      ],
      "source": [
        "label_test"
      ]
    },
    {
      "cell_type": "code",
      "execution_count": null,
      "id": "e7f082a1",
      "metadata": {
        "id": "e7f082a1"
      },
      "outputs": [],
      "source": []
    },
    {
      "cell_type": "code",
      "execution_count": null,
      "id": "441db4b9",
      "metadata": {
        "id": "441db4b9"
      },
      "outputs": [],
      "source": []
    }
  ],
  "metadata": {
    "kernelspec": {
      "display_name": "Python 3",
      "language": "python",
      "name": "python3"
    },
    "language_info": {
      "codemirror_mode": {
        "name": "ipython",
        "version": 3
      },
      "file_extension": ".py",
      "mimetype": "text/x-python",
      "name": "python",
      "nbconvert_exporter": "python",
      "pygments_lexer": "ipython3",
      "version": "3.8.8"
    },
    "varInspector": {
      "cols": {
        "lenName": 16,
        "lenType": 16,
        "lenVar": 40
      },
      "kernels_config": {
        "python": {
          "delete_cmd_postfix": "",
          "delete_cmd_prefix": "del ",
          "library": "var_list.py",
          "varRefreshCmd": "print(var_dic_list())"
        },
        "r": {
          "delete_cmd_postfix": ") ",
          "delete_cmd_prefix": "rm(",
          "library": "var_list.r",
          "varRefreshCmd": "cat(var_dic_list()) "
        }
      },
      "types_to_exclude": [
        "module",
        "function",
        "builtin_function_or_method",
        "instance",
        "_Feature"
      ],
      "window_display": false
    },
    "colab": {
      "provenance": []
    }
  },
  "nbformat": 4,
  "nbformat_minor": 5
}