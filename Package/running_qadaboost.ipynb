{
  "nbformat": 4,
  "nbformat_minor": 0,
  "metadata": {
    "colab": {
      "provenance": [],
      "collapsed_sections": [],
      "machine_shape": "hm"
    },
    "kernelspec": {
      "name": "python3",
      "display_name": "Python 3"
    },
    "language_info": {
      "name": "python"
    },
    "accelerator": "GPU",
    "gpuClass": "standard"
  },
  "cells": [
    {
      "cell_type": "code",
      "execution_count": 1,
      "metadata": {
        "id": "kCfJHnWaDR_4",
        "colab": {
          "base_uri": "https://localhost:8080/"
        },
        "outputId": "4e30735f-80ae-4caa-eec7-cc2d0043e24b"
      },
      "outputs": [
        {
          "output_type": "stream",
          "name": "stdout",
          "text": [
            "Looking in indexes: https://pypi.org/simple, https://us-python.pkg.dev/colab-wheels/public/simple/\n",
            "Requirement already satisfied: qiskit in /usr/local/lib/python3.7/dist-packages (0.39.2)\n",
            "Requirement already satisfied: qiskit-ibmq-provider==0.19.2 in /usr/local/lib/python3.7/dist-packages (from qiskit) (0.19.2)\n",
            "Requirement already satisfied: qiskit-aer==0.11.1 in /usr/local/lib/python3.7/dist-packages (from qiskit) (0.11.1)\n",
            "Requirement already satisfied: qiskit-terra==0.22.2 in /usr/local/lib/python3.7/dist-packages (from qiskit) (0.22.2)\n",
            "Requirement already satisfied: numpy>=1.16.3 in /usr/local/lib/python3.7/dist-packages (from qiskit-aer==0.11.1->qiskit) (1.21.6)\n",
            "Requirement already satisfied: scipy>=1.0 in /usr/local/lib/python3.7/dist-packages (from qiskit-aer==0.11.1->qiskit) (1.7.3)\n",
            "Requirement already satisfied: websockets>=10.0 in /usr/local/lib/python3.7/dist-packages (from qiskit-ibmq-provider==0.19.2->qiskit) (10.4)\n",
            "Requirement already satisfied: requests>=2.19 in /usr/local/lib/python3.7/dist-packages (from qiskit-ibmq-provider==0.19.2->qiskit) (2.23.0)\n",
            "Requirement already satisfied: python-dateutil>=2.8.0 in /usr/local/lib/python3.7/dist-packages (from qiskit-ibmq-provider==0.19.2->qiskit) (2.8.2)\n",
            "Requirement already satisfied: requests-ntlm>=1.1.0 in /usr/local/lib/python3.7/dist-packages (from qiskit-ibmq-provider==0.19.2->qiskit) (1.1.0)\n",
            "Requirement already satisfied: websocket-client>=1.0.1 in /usr/local/lib/python3.7/dist-packages (from qiskit-ibmq-provider==0.19.2->qiskit) (1.4.2)\n",
            "Requirement already satisfied: urllib3>=1.21.1 in /usr/local/lib/python3.7/dist-packages (from qiskit-ibmq-provider==0.19.2->qiskit) (1.24.3)\n",
            "Requirement already satisfied: retworkx>=0.11.0 in /usr/local/lib/python3.7/dist-packages (from qiskit-terra==0.22.2->qiskit) (0.12.0)\n",
            "Requirement already satisfied: psutil>=5 in /usr/local/lib/python3.7/dist-packages (from qiskit-terra==0.22.2->qiskit) (5.4.8)\n",
            "Requirement already satisfied: ply>=3.10 in /usr/local/lib/python3.7/dist-packages (from qiskit-terra==0.22.2->qiskit) (3.11)\n",
            "Requirement already satisfied: sympy>=1.3 in /usr/local/lib/python3.7/dist-packages (from qiskit-terra==0.22.2->qiskit) (1.7.1)\n",
            "Requirement already satisfied: dill>=0.3 in /usr/local/lib/python3.7/dist-packages (from qiskit-terra==0.22.2->qiskit) (0.3.6)\n",
            "Requirement already satisfied: typing-extensions in /usr/local/lib/python3.7/dist-packages (from qiskit-terra==0.22.2->qiskit) (4.1.1)\n",
            "Requirement already satisfied: importlib-metadata<5.0 in /usr/local/lib/python3.7/dist-packages (from qiskit-terra==0.22.2->qiskit) (4.13.0)\n",
            "Requirement already satisfied: symengine>=0.9 in /usr/local/lib/python3.7/dist-packages (from qiskit-terra==0.22.2->qiskit) (0.9.2)\n",
            "Requirement already satisfied: shared-memory38 in /usr/local/lib/python3.7/dist-packages (from qiskit-terra==0.22.2->qiskit) (0.1.2)\n",
            "Requirement already satisfied: stevedore>=3.0.0 in /usr/local/lib/python3.7/dist-packages (from qiskit-terra==0.22.2->qiskit) (3.5.2)\n",
            "Requirement already satisfied: tweedledum<2.0,>=1.1 in /usr/local/lib/python3.7/dist-packages (from qiskit-terra==0.22.2->qiskit) (1.1.1)\n",
            "Requirement already satisfied: zipp>=0.5 in /usr/local/lib/python3.7/dist-packages (from importlib-metadata<5.0->qiskit-terra==0.22.2->qiskit) (3.10.0)\n",
            "Requirement already satisfied: six>=1.5 in /usr/local/lib/python3.7/dist-packages (from python-dateutil>=2.8.0->qiskit-ibmq-provider==0.19.2->qiskit) (1.15.0)\n",
            "Requirement already satisfied: certifi>=2017.4.17 in /usr/local/lib/python3.7/dist-packages (from requests>=2.19->qiskit-ibmq-provider==0.19.2->qiskit) (2022.9.24)\n",
            "Requirement already satisfied: idna<3,>=2.5 in /usr/local/lib/python3.7/dist-packages (from requests>=2.19->qiskit-ibmq-provider==0.19.2->qiskit) (2.10)\n",
            "Requirement already satisfied: chardet<4,>=3.0.2 in /usr/local/lib/python3.7/dist-packages (from requests>=2.19->qiskit-ibmq-provider==0.19.2->qiskit) (3.0.4)\n",
            "Requirement already satisfied: ntlm-auth>=1.0.2 in /usr/local/lib/python3.7/dist-packages (from requests-ntlm>=1.1.0->qiskit-ibmq-provider==0.19.2->qiskit) (1.5.0)\n",
            "Requirement already satisfied: cryptography>=1.3 in /usr/local/lib/python3.7/dist-packages (from requests-ntlm>=1.1.0->qiskit-ibmq-provider==0.19.2->qiskit) (38.0.3)\n",
            "Requirement already satisfied: cffi>=1.12 in /usr/local/lib/python3.7/dist-packages (from cryptography>=1.3->requests-ntlm>=1.1.0->qiskit-ibmq-provider==0.19.2->qiskit) (1.15.1)\n",
            "Requirement already satisfied: pycparser in /usr/local/lib/python3.7/dist-packages (from cffi>=1.12->cryptography>=1.3->requests-ntlm>=1.1.0->qiskit-ibmq-provider==0.19.2->qiskit) (2.21)\n",
            "Requirement already satisfied: rustworkx==0.12.0 in /usr/local/lib/python3.7/dist-packages (from retworkx>=0.11.0->qiskit-terra==0.22.2->qiskit) (0.12.0)\n",
            "Requirement already satisfied: pbr!=2.1.0,>=2.0.0 in /usr/local/lib/python3.7/dist-packages (from stevedore>=3.0.0->qiskit-terra==0.22.2->qiskit) (5.11.0)\n",
            "Requirement already satisfied: mpmath>=0.19 in /usr/local/lib/python3.7/dist-packages (from sympy>=1.3->qiskit-terra==0.22.2->qiskit) (1.2.1)\n"
          ]
        }
      ],
      "source": [
        "pip install qiskit"
      ]
    },
    {
      "cell_type": "code",
      "source": [
        "import numpy as np\n",
        "\n",
        "X = np.array([[-0.92033957],\n",
        "       [-0.62676039],\n",
        "       [-0.28869688],\n",
        "       [-0.4545198 ],\n",
        "       [-0.5639226 ],\n",
        "       [-0.13063581],\n",
        "       [-0.12721978],\n",
        "       [-0.84393553],\n",
        "       [-0.8167348 ],\n",
        "       [-0.86877809],\n",
        "       [ 0.68405998],\n",
        "       [-0.77438584],\n",
        "       [-0.72603092],\n",
        "       [-0.97403678],\n",
        "       [ 0.82394382],\n",
        "       [ 0.04393449],\n",
        "       [-0.62029416],\n",
        "       [-0.7575307 ],\n",
        "       [-0.78364214],\n",
        "       [-0.69133675],\n",
        "       [-0.77908732]])\n",
        "\n",
        "y = np.array([1,\n",
        " 1,\n",
        " 0,\n",
        " 0,\n",
        " 1,\n",
        " 0,\n",
        " 0,\n",
        " 1,\n",
        " 1,\n",
        " 1,\n",
        " 0,\n",
        " 1,\n",
        " 1,\n",
        " 1,\n",
        " 0,\n",
        " 0,\n",
        " 0,\n",
        " 1,\n",
        " 1,\n",
        " 1,\n",
        " 0,\n",
        " 1,\n",
        " 1,\n",
        " 1,\n",
        " 1,\n",
        " 1,\n",
        " 0,\n",
        " 1,\n",
        " 0,\n",
        " 1,\n",
        " 1])\n",
        "\n",
        "\n",
        "X_test = np.array([[-0.75423437],\n",
        "       [-0.65602419],\n",
        "       [ 0.21333776],\n",
        "       [-0.51939951],\n",
        "       [-0.81243976],\n",
        "       [-0.79156646],\n",
        "       [-0.80595879],\n",
        "       [-0.69137113],\n",
        "       [-0.79167719],\n",
        "       [-0.63640346],\n",
        "       [-0.65655968],\n",
        "       [-0.60008819],\n",
        "       [ 0.08046681],\n",
        "       [-0.66995772],\n",
        "       [-0.9143032 ],\n",
        "       [-0.7346537 ],\n",
        "       [-0.83086306],\n",
        "       [-0.69154759],\n",
        "       [-0.32046433],\n",
        "       [-0.61913998],\n",
        "       [-0.99949378],\n",
        "       [ 0.32645699],\n",
        "       [-0.9091592 ],\n",
        "       [-0.38972082],\n",
        "       [-0.836701  ],\n",
        "       [-0.23793032],\n",
        "       [-0.6540042 ],\n",
        "       [-0.86902482],\n",
        "       [-0.804716  ],\n",
        "       [ 0.1423963 ],\n",
        "       [-0.68438072],\n",
        "       [-0.90523266],\n",
        "       [-0.06363657],\n",
        "       [ 0.13351811],\n",
        "       [-0.8986342 ],\n",
        "       [-0.67632821],\n",
        "       [-0.83384046],\n",
        "       [-0.24302343],\n",
        "       [-0.11478386],\n",
        "       [-0.1748094 ],\n",
        "       [-0.59596087],\n",
        "       [-0.83984607],\n",
        "       [-0.57101925],\n",
        "       [-0.72698474],\n",
        "       [-0.67562877],\n",
        "       [-0.41587335],\n",
        "       [-1.        ],\n",
        "       [-0.46482929],\n",
        "       [-0.80117135],\n",
        "       [-0.32990005],\n",
        "       [-0.97846964],\n",
        "       [-0.65602419],\n",
        "       [ 0.21333776],\n",
        "       [-0.51939951],\n",
        "       [-0.81243976],\n",
        "       [-0.79156646],\n",
        "       [-0.80595879],\n",
        "       [-0.69137113],\n",
        "       [-0.75533414]])\n",
        "\n",
        "y_test = np.array([1,\n",
        " 1,\n",
        " 0,\n",
        " 0,\n",
        " 1,\n",
        " 1,\n",
        " 1,\n",
        " 1,\n",
        " 0,\n",
        " 1,\n",
        " 1,\n",
        " 0,\n",
        " 0,\n",
        " 1,\n",
        " 1,\n",
        " 1,\n",
        " 0,\n",
        " 1,\n",
        " 0,\n",
        " 1,\n",
        " 1,\n",
        " 0,\n",
        " 1,\n",
        " 0,\n",
        " 1,\n",
        " 0,\n",
        " 1,\n",
        " 1,\n",
        " 1,\n",
        " 0,\n",
        " 1,\n",
        " 1,\n",
        " 0,\n",
        " 0,\n",
        " 1,\n",
        " 1,\n",
        " 1,\n",
        " 0,\n",
        " 0,\n",
        " 0,\n",
        " 1,\n",
        " 1,\n",
        " 0,\n",
        " 1,\n",
        " 1,\n",
        " 0,\n",
        " 1,\n",
        " 1,\n",
        " 1,\n",
        " 0,\n",
        " 0,\n",
        " 0,\n",
        " 1])\n"
      ],
      "metadata": {
        "id": "eA8z-Ue97Ybu"
      },
      "execution_count": 22,
      "outputs": []
    },
    {
      "cell_type": "code",
      "source": [
        "len(y)"
      ],
      "metadata": {
        "colab": {
          "base_uri": "https://localhost:8080/"
        },
        "id": "RNDs8Xcw9ZtY",
        "outputId": "b2162a6a-fb67-4155-fb97-c568b33a73f0"
      },
      "execution_count": 24,
      "outputs": [
        {
          "output_type": "execute_result",
          "data": {
            "text/plain": [
              "31"
            ]
          },
          "metadata": {},
          "execution_count": 24
        }
      ]
    },
    {
      "cell_type": "code",
      "source": [
        "from quantumboosting import qadaboost"
      ],
      "metadata": {
        "id": "CtIKJ5DNHqhP"
      },
      "execution_count": 25,
      "outputs": []
    },
    {
      "cell_type": "code",
      "source": [
        "qadaboost"
      ],
      "metadata": {
        "colab": {
          "base_uri": "https://localhost:8080/"
        },
        "id": "6AMlmSyxfEqX",
        "outputId": "b489313c-9a3e-4248-c011-f560342a6a16"
      },
      "execution_count": 26,
      "outputs": [
        {
          "output_type": "execute_result",
          "data": {
            "text/plain": [
              "quantumboosting.qadaboost"
            ]
          },
          "metadata": {},
          "execution_count": 26
        }
      ]
    },
    {
      "cell_type": "code",
      "source": [
        "qada = qadaboost()"
      ],
      "metadata": {
        "id": "3335ePDOfEs1"
      },
      "execution_count": 27,
      "outputs": []
    },
    {
      "cell_type": "code",
      "source": [
        "qada.fit(X,y,3,6)"
      ],
      "metadata": {
        "colab": {
          "base_uri": "https://localhost:8080/",
          "height": 1000
        },
        "id": "IzOC55SQfEvd",
        "outputId": "ba3220c1-aa23-40da-f9bf-1473eba225a4"
      },
      "execution_count": 28,
      "outputs": [
        {
          "output_type": "stream",
          "name": "stdout",
          "text": [
            "-------------------------------------------------------------------------------------------------\n",
            "ITERATION -  1 \n",
            "\n",
            "-> Dti updated:\n",
            "[0.0625 0.0625 0.0625 0.0625 0.0625 0.0625 0.0625 0.0625 0.0625 0.0625\n",
            " 0.0625 0.0625 0.0625 0.0625 0.0625 0.0625]\n",
            "->  Dti values obatined after amplification :\n",
            "[0.07666666666666666, 0.06466666666666666, 0.06066666666666667, 0.06066666666666667, 0.056, 0.06333333333333334, 0.06133333333333333, 0.06066666666666667, 0.06333333333333334, 0.062, 0.06, 0.06866666666666667, 0.06133333333333333, 0.06133333333333333, 0.058, 0.06133333333333333]\n",
            "[1 1 0 0 1 0 0 1 1 1 0 1 1 1 0 0]\n",
            "--------------------------------------------------------------------\n",
            "epsilon_t =  0.00553608613022862\n",
            "--------------------------------------------------------------------\n",
            "-> Zt 0.1483972759936962\n",
            "-> alpha_t 2.59545801776686\n",
            "->  Time for amplification 3.068516969680786\n",
            "->  Time for Estimation 5.690739631652832\n",
            "Alpha values ->  [2.59545801776686]\n",
            "###########----->  1\n",
            "New Binary labels :  [1, 1, -1, -1, 1, -1, -1, 1, 1, 1, -1, 1, 1, 1, -1, -1]\n",
            "New Accuracy :  1.0\n",
            "->  Total time per iteration 8.773757219314575\n",
            "-------------------------------------------------------------------------------------------------\n",
            "ITERATION -  2 \n",
            "\n",
            "-> Dti updated:\n",
            "[0.0625 0.0625 0.0625 0.0625 0.0625 0.0625 0.0625 0.0625 0.0625 0.0625\n",
            " 0.0625 0.0625 0.0625 0.0625 0.0625 0.0625]\n",
            "->  Dti values obatined after amplification :\n",
            "[0.07533333333333334, 0.06133333333333333, 0.05266666666666667, 0.06266666666666666, 0.07466666666666667, 0.06333333333333334, 0.058666666666666666, 0.06466666666666666, 0.06466666666666666, 0.06333333333333334, 0.056666666666666664, 0.05733333333333333, 0.062, 0.058, 0.06133333333333333, 0.06333333333333334]\n",
            "[1 1 0 1 1 0 0 1 1 1 0 1 1 1 0 0]\n",
            "--------------------------------------------------------------------\n",
            "epsilon_t =  0.010391301095538706\n",
            "--------------------------------------------------------------------\n",
            "-> Zt 0.20281343108463565\n",
            "-> alpha_t 2.2781702941713955\n",
            "->  Time for amplification 2.988842010498047\n",
            "->  Time for Estimation 13.478989839553833\n",
            "Alpha values ->  [2.59545801776686, 2.2781702941713955]\n",
            "###########----->  2\n",
            "New Binary labels :  [1, 1, -1, -1, 1, -1, -1, 1, 1, 1, -1, 1, 1, 1, -1, -1]\n",
            "New Accuracy :  1.0\n",
            "->  Total time per iteration 16.486277103424072\n",
            "-------------------------------------------------------------------------------------------------\n",
            "ITERATION -  3 \n",
            "\n",
            "-> Dti updated:\n",
            "[0.00907158 0.00907158 0.00907158 0.86392625 0.00907158 0.00907158\n",
            " 0.00907158 0.00907158 0.00907158 0.00907158 0.00907158 0.00907158\n",
            " 0.00907158 0.00907158 0.00907158 0.00907158]\n",
            "->  Dti values obatined after amplification :\n",
            "[0.05333333333333334, 0.06133333333333333, 0.06333333333333334, 0.06533333333333333, 0.06933333333333333, 0.06133333333333333, 0.05266666666666667, 0.058666666666666666, 0.06866666666666667, 0.05533333333333333, 0.056, 0.074, 0.07133333333333333, 0.06533333333333333, 0.06066666666666667, 0.06333333333333334]\n",
            "[1 0 0 0 0 0 0 1 1 1 0 1 1 1 0 0]\n",
            "--------------------------------------------------------------------\n",
            "epsilon_t =  0.005159575153031235\n",
            "--------------------------------------------------------------------\n",
            "-> Zt 0.1432892729728427\n",
            "-> alpha_t 2.6308640529193412\n",
            "->  Time for amplification 2.837883710861206\n",
            "->  Time for Estimation 8.633840560913086\n",
            "Alpha values ->  [2.59545801776686, 2.2781702941713955, 2.6308640529193412]\n",
            "###########----->  3\n",
            "New Binary labels :  [1, 1, -1, -1, 1, -1, -1, 1, 1, 1, -1, 1, 1, 1, -1, -1]\n",
            "New Accuracy :  1.0\n",
            "->  Total time per iteration 11.48814845085144\n"
          ]
        },
        {
          "output_type": "display_data",
          "data": {
            "text/plain": [
              "<Figure size 576x396 with 1 Axes>"
            ],
            "image/png": "[encoded data removed]"
          },
          "metadata": {}
        }
      ]
    },
    {
      "cell_type": "code",
      "source": [
        "qada.predict(X_test,y_test)"
      ],
      "metadata": {
        "colab": {
          "base_uri": "https://localhost:8080/",
          "height": 445
        },
        "id": "WrE32IKklXQT",
        "outputId": "71eef9f6-18c4-4bec-93ad-edd08cb99043"
      },
      "execution_count": 29,
      "outputs": [
        {
          "output_type": "stream",
          "name": "stdout",
          "text": [
            "-> Final Predictions:  [1, 1, -1, 1, 1, 1, 1, 1, 1, 1, 1, 1, -1, 1, 1, 1]\n"
          ]
        },
        {
          "output_type": "display_data",
          "data": {
            "text/plain": [
              "<Figure size 576x396 with 1 Axes>"
            ],
            "image/png": "[encoded data removed]"
          },
          "metadata": {}
        },
        {
          "output_type": "stream",
          "name": "stdout",
          "text": [
            "----------------------------------------------------------\n",
            "Final Testing Accuracy :  0.8125\n",
            "----------------------------------------------------------\n"
          ]
        }
      ]
    },
    {
      "cell_type": "code",
      "source": [
        "from quantumboosting import qrealboost"
      ],
      "metadata": {
        "id": "0_rbkt0KDppm"
      },
      "execution_count": 30,
      "outputs": []
    },
    {
      "cell_type": "code",
      "source": [
        "qrealboost"
      ],
      "metadata": {
        "colab": {
          "base_uri": "https://localhost:8080/"
        },
        "id": "M-YqFrljDqaB",
        "outputId": "a2f492dc-39ad-4225-d0c6-d752bf091724"
      },
      "execution_count": 31,
      "outputs": [
        {
          "output_type": "execute_result",
          "data": {
            "text/plain": [
              "quantumboosting.qrealboost"
            ]
          },
          "metadata": {},
          "execution_count": 31
        }
      ]
    },
    {
      "cell_type": "code",
      "source": [
        "qrb = qrealboost()"
      ],
      "metadata": {
        "id": "K5QZrXN3Dqcp"
      },
      "execution_count": 32,
      "outputs": []
    },
    {
      "cell_type": "code",
      "source": [
        "qrb.fit(X,y, 2)"
      ],
      "metadata": {
        "colab": {
          "base_uri": "https://localhost:8080/",
          "height": 1000
        },
        "id": "rCEUep46Dqfh",
        "outputId": "f0ede694-989f-4f87-f395-10475561b864"
      },
      "execution_count": 33,
      "outputs": [
        {
          "output_type": "stream",
          "name": "stdout",
          "text": [
            "ITERATION -  1 \n",
            "\n",
            "->  Dti values obatined after amplification :\n",
            "[0.064, 0.056, 0.06066666666666667, 0.06333333333333334, 0.06666666666666667, 0.06533333333333333, 0.072, 0.06666666666666667, 0.058, 0.05466666666666667, 0.058666666666666666, 0.048666666666666664, 0.06333333333333334, 0.066, 0.06866666666666667, 0.06733333333333333]\n",
            "k value - 0\n",
            "w for b =0, 0.0033536240121048834\n",
            "w for b =1, 0.0006320468699372113\n",
            "k value - 1\n",
            "w for b =0, 0.000808339015799675\n",
            "w for b =1, 0.010456260358176452\n",
            "k value - 2\n",
            "w for b =0, 0.007085096467798213\n",
            "w for b =1, 0.0006320468699372113\n",
            "->  Time for amplification 14.968836545944214\n",
            "->  Time for Estimation 351.7536540031433\n",
            "->  Updated Dti\n",
            "[0.017377551877810357, 0.017377551877810357, 0.0625, 0.0625, 0.017377551877810357, 0.0625, 0.0625, 0.017377551877810357, 0.017377551877810357, 0.017377551877810357, 0.0625, 0.017377551877810357, 0.017377551877810357, 0.017377551877810357, 0.0625, 0.0625]\n",
            "->  Training Accuracy :  0.9375\n",
            "->  Total time per iteration 366.7353925704956\n",
            "-------------------------------------------------------------------------------------------------\n",
            "ITERATION -  2 \n",
            "\n",
            "->  Dti values obatined after amplification :\n",
            "[0.056666666666666664, 0.051333333333333335, 0.066, 0.08133333333333333, 0.05733333333333333, 0.072, 0.054, 0.04533333333333334, 0.056666666666666664, 0.07066666666666667, 0.058, 0.07866666666666666, 0.054, 0.058, 0.07533333333333334, 0.06466666666666666]\n",
            "k value - 0\n",
            "w for b =0, 0.009119487616885571\n",
            "w for b =1, 0.0006320468699372113\n",
            "k value - 1\n",
            "w for b =0, 0.0014610051189646567\n",
            "w for b =1, 0.005465272021501407\n",
            "k value - 2\n",
            "w for b =0, 0.0048197239596462675\n",
            "w for b =1, 0.0006320468699372113\n",
            "->  Time for amplification 15.713780164718628\n",
            "->  Time for Estimation 330.4887897968292\n",
            "->  Updated Dti\n",
            "[0.008984803244578305, 0.008984803244578305, 0.0625, 0.0625, 0.008984803244578305, 0.0625, 0.0625, 0.008984803244578305, 0.008984803244578305, 0.008984803244578305, 0.0625, 0.008984803244578305, 0.008984803244578305, 0.008984803244578305, 0.0625, 0.0625]\n",
            "->  Training Accuracy :  0.9375\n",
            "->  Total time per iteration 346.2167491912842\n",
            "-------------------------------------------------------------------------------------------------\n"
          ]
        },
        {
          "output_type": "display_data",
          "data": {
            "text/plain": [
              "<Figure size 576x396 with 1 Axes>"
            ],
            "image/png": "[encoded data removed]"
          },
          "metadata": {}
        }
      ]
    },
    {
      "cell_type": "code",
      "source": [
        "qrb.predict(X_test,y_test)"
      ],
      "metadata": {
        "colab": {
          "base_uri": "https://localhost:8080/",
          "height": 393
        },
        "id": "FWzMjSN4DqiI",
        "outputId": "10467109-7f1a-4ca1-d77c-4adb45d45000"
      },
      "execution_count": 34,
      "outputs": [
        {
          "output_type": "stream",
          "name": "stdout",
          "text": [
            "Testing Accuracy :  0.8125\n"
          ]
        },
        {
          "output_type": "display_data",
          "data": {
            "text/plain": [
              "<Figure size 576x396 with 1 Axes>"
            ],
            "image/png": "[encoded data removed]"
          },
          "metadata": {}
        }
      ]
    },
    {
      "cell_type": "code",
      "source": [],
      "metadata": {
        "id": "vXm_KiDIDqkp"
      },
      "execution_count": null,
      "outputs": []
    },
    {
      "cell_type": "code",
      "source": [],
      "metadata": {
        "id": "AxaQikqSDqnC"
      },
      "execution_count": null,
      "outputs": []
    }
  ]
}