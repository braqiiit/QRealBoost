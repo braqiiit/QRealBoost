{
  "nbformat": 4,
  "nbformat_minor": 0,
  "metadata": {
    "colab": {
      "provenance": []
    },
    "kernelspec": {
      "name": "python3",
      "display_name": "Python 3"
    },
    "language_info": {
      "name": "python"
    },
    "accelerator": "GPU",
    "gpuClass": "standard"
  },
  "cells": [
    {
      "cell_type": "code",
      "source": [
        "pip install qiskit"
      ],
      "metadata": {
        "id": "BnSulZyzGssY"
      },
      "execution_count": null,
      "outputs": []
    },
    {
      "cell_type": "code",
      "source": [
        "pip install qiskit-aer"
      ],
      "metadata": {
        "id": "Y_z0y-ZZXayG"
      },
      "execution_count": null,
      "outputs": []
    },
    {
      "cell_type": "code",
      "execution_count": 1,
      "metadata": {
        "id": "bsF2lUyjIfen"
      },
      "outputs": [],
      "source": [
        "import numpy as np\n",
        "\n",
        "X64 = np.array([[-0.80589907, -0.59042291, -0.05324325,  0.10774176, -0.04505932],\n",
        "       [ 0.06256734, -0.37244006,  0.0939138 , -0.2033949 , -0.94811908],\n",
        "       [-0.84338317, -0.6326198 , -0.43462352,  0.24523402, -0.52480534],\n",
        "       [ 0.13286258,  0.37155658, -0.87001548,  0.70985865,  0.6677744 ],\n",
        "       [-0.75234354, -0.21787303,  0.12046462, -0.59419401, -0.56680623],\n",
        "       [ 0.28907508,  0.9888873 , -0.36947398, -0.3852527 ,  0.12494092],\n",
        "       [-0.94193876, -0.07222975, -0.51910519, -0.34613681, -0.50121778],\n",
        "       [-0.63461962, -0.66262997, -0.01359157, -0.20885209,  0.32881507],\n",
        "       [ 0.26177535,  0.73210506,  0.14869942, -0.08739544, -0.41974897],\n",
        "       [-0.87627756, -0.05459176, -0.79168413, -0.44217547, -0.76591014],\n",
        "       [-0.31582251, -0.65735629,  0.80118443, -0.14383058,  0.05621122],\n",
        "       [-0.56914731,  0.02827011, -0.70470652, -0.62345748,  0.07444681],\n",
        "       [ 0.35079842,  0.84817601, -0.38494076, -0.29560828, -0.07015869],\n",
        "       [ 0.60451149, -0.77078297, -0.00920281,  0.17409424, -0.29259797],\n",
        "       [ 0.23017942,  0.13002239,  0.1935483 ,  0.2473952 , -0.39510758],\n",
        "       [ 0.94377071, -0.63914724, -0.44823675, -0.35877896, -0.2279727 ],\n",
        "       [-0.41203935, -0.63002251, -0.25803975, -0.13481458,  1.        ],\n",
        "       [-0.84141311, -0.37295448,  0.23098801, -0.09279513, -0.30896296],\n",
        "       [-0.63473418, -0.64862994, -0.34478505,  0.30493717, -0.31294345],\n",
        "       [ 0.54624343, -0.05513775, -0.37989372,  0.44105009, -0.54167204],\n",
        "       [ 0.41786759,  0.90609941, -0.47142637, -0.12383133,  0.07869459],\n",
        "       [ 0.83676509, -0.60596934, -0.56257506, -1.        , -0.12157583],\n",
        "       [ 0.09787885,  0.41570962,  0.05702348,  0.7133461 , -0.32991341],\n",
        "       [ 0.56101992,  0.62038019, -0.28584764,  0.05462626, -0.96150592],\n",
        "       [ 0.49179288, -0.1536601 , -0.20058942,  1.        , -0.23212819],\n",
        "       [ 0.42401093, -0.29381199,  0.02061487,  0.68741985, -0.63409955],\n",
        "       [-0.67235847, -0.68699306, -1.        ,  0.12998496, -0.64246139],\n",
        "       [ 0.68981195, -0.7822776 , -0.45056316,  0.17824033, -0.28578779],\n",
        "       [-0.8566584 , -0.04364493, -0.26908778, -0.35775043, -0.87088248],\n",
        "       [-0.09183266,  0.77482135,  0.05847358, -0.03713341, -0.63098033],\n",
        "       [ 0.82501212, -0.80820505, -0.18331782,  0.43321777, -0.49106175],\n",
        "       [ 0.39893683,  0.94363918, -0.45686527,  0.24407125, -0.05909602],\n",
        "       [ 0.69339013, -0.91467442, -0.23083126, -0.61828926, -0.31150299],\n",
        "       [ 0.1360446 ,  0.4176652 ,  0.16521813,  0.28788609, -0.51930635],\n",
        "       [ 0.44215386,  0.98543464, -0.37949666, -0.41211015,  0.05908244],\n",
        "       [ 0.24224883,  0.81801481, -0.1429181 , -0.66253758, -0.39744601],\n",
        "       [ 0.78826496, -0.72251302, -0.07685949, -0.01906448, -0.81606224],\n",
        "       [ 0.64234617, -0.90884405, -0.01065299, -0.14171669, -0.5395039 ],\n",
        "       [ 0.78331642, -0.79602718, -0.29497289, -0.38296365, -0.25876049],\n",
        "       [ 0.58122718, -0.50820971, -0.39361292, -0.24785874,  0.49198399],\n",
        "       [ 0.82427747, -0.77037464, -0.33859388,  0.59875024, -0.54046202],\n",
        "       [-0.15491631,  0.42594546,  0.28120175, -0.12650848, -0.39095192],\n",
        "       [-0.41265761, -0.778387  ,  0.38536974, -0.56097033,  0.27519472],\n",
        "       [ 0.81281306, -0.82835321, -0.43001264,  0.54553452, -0.37301733]])\n",
        "\n",
        "\n",
        "X_test64 = np.array([[-0.68707325, -0.50735238, -0.20700664, -0.62336223,  0.39806279],\n",
        "       [ 0.46234745,  0.81775949, -0.44946658,  0.1140975 , -0.17951633],\n",
        "       [ 0.61516826,  0.29117629, -0.20364858,  0.46090612,  0.00305875],\n",
        "       [-0.50432232, -0.64050608,  0.13880843, -0.42755397,  0.47996396],\n",
        "       [-0.58363044, -0.59302057, -0.36068798, -0.20546695,  0.42447254],\n",
        "       [-0.77781706, -0.52822617,  0.1248982 , -0.39869912, -0.65804837],\n",
        "       [-0.31182115, -0.16652907, -0.02315063,  0.05638778, -0.47035166],\n",
        "       [-0.35714232, -0.56180839,  0.02707521, -0.3134225 ,  0.7454719 ],\n",
        "       [ 0.40935228,  1.        , -0.52272328,  0.10199332,  0.13573632],\n",
        "       [-0.5209226 , -0.19721416, -0.90344255, -0.43913667, -0.10011288],\n",
        "       [-0.40235592, -0.6796702 , -0.49861898, -0.07365373,  0.85654452],\n",
        "       [ 0.81742342, -0.54015171, -0.13383637, -0.1039951 , -0.93044641],\n",
        "       [ 0.3254841 , -0.50934448,  0.04402021,  0.36110195, -0.37572541],\n",
        "       [-0.09288116, -0.13640449,  0.05706831,  0.16841045, -0.95817001],\n",
        "       [-0.90998517, -0.40430919, -0.86355457, -0.26217541, -0.064167  ],\n",
        "       [-0.57775116, -0.76387782,  0.29964566, -0.30444234,  0.54161409],\n",
        "       [ 0.21042602,  0.53453165,  0.05184494, -0.23258185, -0.75751172],\n",
        "       [ 0.48320202,  0.85674321, -0.33808615, -0.17128284, -0.28369987],\n",
        "       [-0.19770072, -0.68336291,  0.18640211, -0.35917056,  0.8291267 ],\n",
        "       [ 0.65655214, -0.73443385, -0.42628468,  0.60888795,  0.01226754],\n",
        "       [ 0.50016485,  0.0690652 , -0.45885945,  0.62442559,  0.06448148]])\n",
        " \n",
        "\n",
        "y64 = [0,\n",
        " 1,\n",
        " 0,\n",
        " 1,\n",
        " 0,\n",
        " 1,\n",
        " 0,\n",
        " 0,\n",
        " 1,\n",
        " 0,\n",
        " 0,\n",
        " 0,\n",
        " 1,\n",
        " 1,\n",
        " 1,\n",
        " 1,\n",
        " 0,\n",
        " 0,\n",
        " 0,\n",
        " 1,\n",
        " 1,\n",
        " 1,\n",
        " 1,\n",
        " 1,\n",
        " 1,\n",
        " 1,\n",
        " 0,\n",
        " 1,\n",
        " 0,\n",
        " 1,\n",
        " 1,\n",
        " 1,\n",
        " 1,\n",
        " 1,\n",
        " 1,\n",
        " 1,\n",
        " 1,\n",
        " 1,\n",
        " 1,\n",
        " 0,\n",
        " 1,\n",
        " 1,\n",
        " 0,\n",
        " 1,\n",
        " 0,\n",
        " 1,\n",
        " 1,\n",
        " 1,\n",
        " 1,\n",
        " 1,\n",
        " 0,\n",
        " 0,\n",
        " 0,\n",
        " 1,\n",
        " 1]\n",
        "\n",
        "y_test64 = [0,\n",
        " 1,\n",
        " 1,\n",
        " 0,\n",
        " 0,\n",
        " 0,\n",
        " 1,\n",
        " 0,\n",
        " 1,\n",
        " 0,\n",
        " 0,\n",
        " 1,\n",
        " 1,\n",
        " 1,\n",
        " 0,\n",
        " 0,\n",
        " 1,\n",
        " 1,\n",
        " 0,\n",
        " 1,\n",
        " 1,\n",
        " 0,\n",
        " 1,\n",
        " 0,\n",
        " 1,\n",
        " 1,\n",
        " 1,\n",
        " 1,\n",
        " 0,\n",
        " 1,\n",
        " 1,\n",
        " 0,\n",
        " 0,\n",
        " 1,\n",
        " 0,\n",
        " 0,\n",
        " 1,\n",
        " 0,\n",
        " 1,\n",
        " 0,\n",
        " 1,\n",
        " 1,\n",
        " 0,\n",
        " 1,\n",
        " 1,\n",
        " 0,\n",
        " 0,\n",
        " 0,\n",
        " 1,\n",
        " 0,\n",
        " 1,\n",
        " 0,\n",
        " 0,\n",
        " 1,\n",
        " 1,\n",
        " 1,\n",
        " 0]\n",
        "\n",
        "X = X64[:20]\n",
        "X_test = X_test64[:20]\n",
        "y = y64[:20] \n",
        "y_test = y_test64[:20]\n"
      ]
    },
    {
      "cell_type": "code",
      "source": [],
      "metadata": {
        "id": "5kYCJaYC8PaJ"
      },
      "execution_count": 1,
      "outputs": []
    },
    {
      "cell_type": "markdown",
      "source": [
        "User has to download the quantumboosting module and simply import the qrealboost class like this."
      ],
      "metadata": {
        "id": "LNpfGzpXK_Vt"
      }
    },
    {
      "cell_type": "code",
      "source": [
        "from quantumboosting import qrealboost"
      ],
      "metadata": {
        "id": "N_xMd-VY8Pc2"
      },
      "execution_count": 2,
      "outputs": []
    },
    {
      "cell_type": "code",
      "source": [
        "qrealboost"
      ],
      "metadata": {
        "colab": {
          "base_uri": "https://localhost:8080/"
        },
        "id": "RHNnfZoi8s_P",
        "outputId": "0068e9c2-967c-4313-d550-3e3c65f02640"
      },
      "execution_count": 3,
      "outputs": [
        {
          "output_type": "execute_result",
          "data": {
            "text/plain": [
              "quantumboosting.qrealboost"
            ]
          },
          "metadata": {},
          "execution_count": 3
        }
      ]
    },
    {
      "cell_type": "markdown",
      "source": [
        "Create object (just like in sklearn)"
      ],
      "metadata": {
        "id": "kyS3cWBXLVNv"
      }
    },
    {
      "cell_type": "code",
      "source": [
        "qrb = qrealboost()"
      ],
      "metadata": {
        "id": "UCeipAh5bVX3"
      },
      "execution_count": 4,
      "outputs": []
    },
    {
      "cell_type": "markdown",
      "source": [
        "Data of any size can be input, but internally size gets clipped to powers of two. Along with X and y, number of iterations and value of Q can be input optionally. By default they are 25 and 4 respectively."
      ],
      "metadata": {
        "id": "UyT_YUBFLZza"
      }
    },
    {
      "cell_type": "code",
      "source": [
        "qrb.fit(X,y, 2)"
      ],
      "metadata": {
        "colab": {
          "base_uri": "https://localhost:8080/"
        },
        "id": "7OONsRnRbVa1",
        "outputId": "3c81352e-7fae-4415-c201-4bc501da5f39"
      },
      "execution_count": 5,
      "outputs": [
        {
          "output_type": "stream",
          "name": "stdout",
          "text": [
            "ITERATION -  1 \n",
            "\n",
            "->  Dti values obatined after amplification :\n",
            "[0.066, 0.06466666666666666, 0.064, 0.07266666666666667, 0.05466666666666667, 0.06466666666666666, 0.062, 0.051333333333333335, 0.05466666666666667, 0.05733333333333333, 0.07, 0.06933333333333333, 0.06266666666666666, 0.062, 0.059333333333333335, 0.06466666666666666]\n",
            "k value - 0\n",
            "w for b =0, 0.0006320468699372113\n",
            "w for b =1, 0.0020928536776305467\n",
            "k value - 1\n",
            "w for b =0, 0.006526802639245959\n",
            "w for b =1, 0.0035333913650044116\n",
            "k value - 2\n",
            "w for b =0, 0.00546589472611046\n",
            "w for b =1, 0.0028894052405775816\n",
            "->  Time for amplification 17.570048809051514\n",
            "->  Time for Estimation 604.4471616744995\n",
            "->  Updated Dti\n",
            "[0.0625, 0.08494432818324218, 0.0625, 0.034346716626507144, 0.0625, 0.08596198207358396, 0.0625, 0.0625, 0.08596198207358396, 0.0625, 0.0625, 0.0625, 0.08596198207358396, 0.08494432818324218, 0.08494432818324218, 0.08596198207358396]\n",
            "->  Training Accuracy :  0.5625\n",
            "->  Total time per iteration 622.0817475318909\n",
            "-------------------------------------------------------------------------------------------------\n",
            "ITERATION -  2 \n",
            "\n",
            "->  Dti values obatined after amplification :\n",
            "[0.05333333333333334, 0.066, 0.059333333333333335, 0.042, 0.054, 0.06333333333333334, 0.06, 0.06, 0.08066666666666666, 0.059333333333333335, 0.06266666666666666, 0.054, 0.074, 0.072, 0.06466666666666666, 0.07466666666666667]\n",
            "k value - 0\n",
            "w for b =0, 0.0006320468699372113\n",
            "w for b =1, 0.0011842305992057916\n",
            "k value - 1\n",
            "w for b =0, 0.0027964579419512167\n",
            "w for b =1, 0.0028894052405775816\n",
            "k value - 2\n",
            "w for b =0, 0.0035333913650044116\n",
            "w for b =1, 0.004400354997307656\n",
            "->  Time for amplification 18.252081632614136\n",
            "->  Time for Estimation 689.6592936515808\n",
            "->  Updated Dti\n",
            "[0.0625, 0.08356690230508593, 0.0625, 0.030777776490045716, 0.0625, 0.07702974056216615, 0.0625, 0.0625, 0.07702974056216615, 0.0625, 0.0625, 0.0625, 0.07702974056216615, 0.08356690230508593, 0.07611783028201458, 0.06280047431825246]\n",
            "->  Training Accuracy :  0.5625\n",
            "->  Total time per iteration 707.9271066188812\n",
            "-------------------------------------------------------------------------------------------------\n"
          ]
        }
      ]
    },
    {
      "cell_type": "code",
      "source": [
        "qrb.predict(X_test,y_test)"
      ],
      "metadata": {
        "colab": {
          "base_uri": "https://localhost:8080/",
          "height": 393
        },
        "id": "7MiLta01bVd9",
        "outputId": "d8d15c2e-90b5-4788-9294-5f3c91915475"
      },
      "execution_count": 6,
      "outputs": [
        {
          "output_type": "stream",
          "name": "stdout",
          "text": [
            "Testing Accuracy :  0.75\n"
          ]
        },
        {
          "output_type": "display_data",
          "data": {
            "text/plain": [
              "<Figure size 576x396 with 1 Axes>"
            ],
            "image/png": "[encoded data removed]"
          },
          "metadata": {}
        }
      ]
    }
  ]
}
